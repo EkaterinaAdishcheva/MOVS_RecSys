{
  "cells": [
    {
      "cell_type": "code",
      "execution_count": null,
      "metadata": {
        "colab": {
          "base_uri": "https://localhost:8080/"
        },
        "id": "o15hLIBwVhq1",
        "outputId": "b9c1236f-e4d8-4201-e17b-aad11904773b"
      },
      "outputs": [
        {
          "name": "stdout",
          "output_type": "stream",
          "text": [
            "Looking in indexes: https://pypi.org/simple, https://us-python.pkg.dev/colab-wheels/public/simple/\n",
            "Requirement already satisfied: category_encoders in /usr/local/lib/python3.8/dist-packages (2.5.1.post0)\n",
            "Requirement already satisfied: statsmodels>=0.9.0 in /usr/local/lib/python3.8/dist-packages (from category_encoders) (0.12.2)\n",
            "Requirement already satisfied: scikit-learn>=0.20.0 in /usr/local/lib/python3.8/dist-packages (from category_encoders) (1.0.2)\n",
            "Requirement already satisfied: scipy>=1.0.0 in /usr/local/lib/python3.8/dist-packages (from category_encoders) (1.7.3)\n",
            "Requirement already satisfied: pandas>=1.0.5 in /usr/local/lib/python3.8/dist-packages (from category_encoders) (1.3.5)\n",
            "Requirement already satisfied: numpy>=1.14.0 in /usr/local/lib/python3.8/dist-packages (from category_encoders) (1.21.6)\n",
            "Requirement already satisfied: patsy>=0.5.1 in /usr/local/lib/python3.8/dist-packages (from category_encoders) (0.5.3)\n",
            "Requirement already satisfied: pytz>=2017.3 in /usr/local/lib/python3.8/dist-packages (from pandas>=1.0.5->category_encoders) (2022.6)\n",
            "Requirement already satisfied: python-dateutil>=2.7.3 in /usr/local/lib/python3.8/dist-packages (from pandas>=1.0.5->category_encoders) (2.8.2)\n",
            "Requirement already satisfied: six in /usr/local/lib/python3.8/dist-packages (from patsy>=0.5.1->category_encoders) (1.15.0)\n",
            "Requirement already satisfied: threadpoolctl>=2.0.0 in /usr/local/lib/python3.8/dist-packages (from scikit-learn>=0.20.0->category_encoders) (3.1.0)\n",
            "Requirement already satisfied: joblib>=0.11 in /usr/local/lib/python3.8/dist-packages (from scikit-learn>=0.20.0->category_encoders) (1.2.0)\n"
          ]
        }
      ],
      "source": [
        "pip install --upgrade category_encoders"
      ],
      "id": "o15hLIBwVhq1"
    },
    {
      "cell_type": "code",
      "execution_count": null,
      "metadata": {
        "id": "c948ddd3"
      },
      "outputs": [],
      "source": [
        "import numpy as np\n",
        "import pandas as pd\n",
        "\n",
        "import matplotlib.pyplot as plt\n",
        "import seaborn as sns\n",
        "\n",
        "plt.style.use('ggplot')    \n",
        "%matplotlib inline \n",
        "\n",
        "import warnings\n",
        "warnings.filterwarnings('ignore')"
      ],
      "id": "c948ddd3"
    },
    {
      "cell_type": "code",
      "execution_count": null,
      "metadata": {
        "id": "VwSFyK5FVlkI"
      },
      "outputs": [],
      "source": [
        "from category_encoders.one_hot import OneHotEncoder\n",
        "from category_encoders.leave_one_out import LeaveOneOutEncoder\n",
        "from sklearn.preprocessing import MinMaxScaler\n",
        "\n",
        "from sklearn.pipeline import Pipeline\n",
        "\n",
        "from sklearn.linear_model import LogisticRegression\n",
        "from sklearn.ensemble import RandomForestClassifier\n",
        "from sklearn.neighbors import KNeighborsClassifier\n",
        "from sklearn.tree import DecisionTreeClassifier\n",
        "from sklearn.svm import SVC, LinearSVC\n",
        "from xgboost import XGBClassifier\n",
        "from sklearn.svm import SVC\n",
        "from sklearn.pipeline import Pipeline\n",
        "\n",
        "from sklearn.metrics import make_scorer, accuracy_score, roc_auc_score, f1_score\n",
        "from sklearn.model_selection import GridSearchCV\n",
        "from sklearn.model_selection import train_test_split"
      ],
      "id": "VwSFyK5FVlkI"
    },
    {
      "cell_type": "markdown",
      "metadata": {
        "id": "4pIeAp2Knatf"
      },
      "source": [
        "**Загрузка датасета и предобработка данных**"
      ],
      "id": "4pIeAp2Knatf"
    },
    {
      "cell_type": "code",
      "execution_count": null,
      "metadata": {
        "colab": {
          "base_uri": "https://localhost:8080/",
          "height": 755
        },
        "id": "j_-2j6QlnhxS",
        "outputId": "2ddf28fd-941c-4d97-fbde-86844e5f05fd"
      },
      "outputs": [
        {
          "data": {
            "text/html": [
              "\n",
              "  <div id=\"df-22f512f8-90a9-4ce4-93ee-c48fd306b04b\">\n",
              "    <div class=\"colab-df-container\">\n",
              "      <div>\n",
              "<style scoped>\n",
              "    .dataframe tbody tr th:only-of-type {\n",
              "        vertical-align: middle;\n",
              "    }\n",
              "\n",
              "    .dataframe tbody tr th {\n",
              "        vertical-align: top;\n",
              "    }\n",
              "\n",
              "    .dataframe thead th {\n",
              "        text-align: right;\n",
              "    }\n",
              "</style>\n",
              "<table border=\"1\" class=\"dataframe\">\n",
              "  <thead>\n",
              "    <tr style=\"text-align: right;\">\n",
              "      <th></th>\n",
              "      <th>genre</th>\n",
              "      <th>artist_name</th>\n",
              "      <th>track_name</th>\n",
              "      <th>track_id</th>\n",
              "      <th>popularity</th>\n",
              "      <th>acousticness</th>\n",
              "      <th>danceability</th>\n",
              "      <th>duration_ms</th>\n",
              "      <th>energy</th>\n",
              "      <th>instrumentalness</th>\n",
              "      <th>key</th>\n",
              "      <th>liveness</th>\n",
              "      <th>loudness</th>\n",
              "      <th>mode</th>\n",
              "      <th>speechiness</th>\n",
              "      <th>tempo</th>\n",
              "      <th>time_signature</th>\n",
              "      <th>valence</th>\n",
              "    </tr>\n",
              "  </thead>\n",
              "  <tbody>\n",
              "    <tr>\n",
              "      <th>0</th>\n",
              "      <td>Movie</td>\n",
              "      <td>Henri Salvador</td>\n",
              "      <td>C'est beau de faire un Show</td>\n",
              "      <td>0BRjO6ga9RKCKjfDqeFgWV</td>\n",
              "      <td>0</td>\n",
              "      <td>0.61100</td>\n",
              "      <td>0.389</td>\n",
              "      <td>99373</td>\n",
              "      <td>0.910</td>\n",
              "      <td>0.000000</td>\n",
              "      <td>C#</td>\n",
              "      <td>0.3460</td>\n",
              "      <td>-1.828</td>\n",
              "      <td>Major</td>\n",
              "      <td>0.0525</td>\n",
              "      <td>166.969</td>\n",
              "      <td>4/4</td>\n",
              "      <td>0.814</td>\n",
              "    </tr>\n",
              "    <tr>\n",
              "      <th>1</th>\n",
              "      <td>Movie</td>\n",
              "      <td>Martin &amp; les fées</td>\n",
              "      <td>Perdu d'avance (par Gad Elmaleh)</td>\n",
              "      <td>0BjC1NfoEOOusryehmNudP</td>\n",
              "      <td>1</td>\n",
              "      <td>0.24600</td>\n",
              "      <td>0.590</td>\n",
              "      <td>137373</td>\n",
              "      <td>0.737</td>\n",
              "      <td>0.000000</td>\n",
              "      <td>F#</td>\n",
              "      <td>0.1510</td>\n",
              "      <td>-5.559</td>\n",
              "      <td>Minor</td>\n",
              "      <td>0.0868</td>\n",
              "      <td>174.003</td>\n",
              "      <td>4/4</td>\n",
              "      <td>0.816</td>\n",
              "    </tr>\n",
              "    <tr>\n",
              "      <th>2</th>\n",
              "      <td>Movie</td>\n",
              "      <td>Joseph Williams</td>\n",
              "      <td>Don't Let Me Be Lonely Tonight</td>\n",
              "      <td>0CoSDzoNIKCRs124s9uTVy</td>\n",
              "      <td>3</td>\n",
              "      <td>0.95200</td>\n",
              "      <td>0.663</td>\n",
              "      <td>170267</td>\n",
              "      <td>0.131</td>\n",
              "      <td>0.000000</td>\n",
              "      <td>C</td>\n",
              "      <td>0.1030</td>\n",
              "      <td>-13.879</td>\n",
              "      <td>Minor</td>\n",
              "      <td>0.0362</td>\n",
              "      <td>99.488</td>\n",
              "      <td>5/4</td>\n",
              "      <td>0.368</td>\n",
              "    </tr>\n",
              "    <tr>\n",
              "      <th>3</th>\n",
              "      <td>Movie</td>\n",
              "      <td>Henri Salvador</td>\n",
              "      <td>Dis-moi Monsieur Gordon Cooper</td>\n",
              "      <td>0Gc6TVm52BwZD07Ki6tIvf</td>\n",
              "      <td>0</td>\n",
              "      <td>0.70300</td>\n",
              "      <td>0.240</td>\n",
              "      <td>152427</td>\n",
              "      <td>0.326</td>\n",
              "      <td>0.000000</td>\n",
              "      <td>C#</td>\n",
              "      <td>0.0985</td>\n",
              "      <td>-12.178</td>\n",
              "      <td>Major</td>\n",
              "      <td>0.0395</td>\n",
              "      <td>171.758</td>\n",
              "      <td>4/4</td>\n",
              "      <td>0.227</td>\n",
              "    </tr>\n",
              "    <tr>\n",
              "      <th>4</th>\n",
              "      <td>Movie</td>\n",
              "      <td>Fabien Nataf</td>\n",
              "      <td>Ouverture</td>\n",
              "      <td>0IuslXpMROHdEPvSl1fTQK</td>\n",
              "      <td>4</td>\n",
              "      <td>0.95000</td>\n",
              "      <td>0.331</td>\n",
              "      <td>82625</td>\n",
              "      <td>0.225</td>\n",
              "      <td>0.123000</td>\n",
              "      <td>F</td>\n",
              "      <td>0.2020</td>\n",
              "      <td>-21.150</td>\n",
              "      <td>Major</td>\n",
              "      <td>0.0456</td>\n",
              "      <td>140.576</td>\n",
              "      <td>4/4</td>\n",
              "      <td>0.390</td>\n",
              "    </tr>\n",
              "    <tr>\n",
              "      <th>...</th>\n",
              "      <td>...</td>\n",
              "      <td>...</td>\n",
              "      <td>...</td>\n",
              "      <td>...</td>\n",
              "      <td>...</td>\n",
              "      <td>...</td>\n",
              "      <td>...</td>\n",
              "      <td>...</td>\n",
              "      <td>...</td>\n",
              "      <td>...</td>\n",
              "      <td>...</td>\n",
              "      <td>...</td>\n",
              "      <td>...</td>\n",
              "      <td>...</td>\n",
              "      <td>...</td>\n",
              "      <td>...</td>\n",
              "      <td>...</td>\n",
              "      <td>...</td>\n",
              "    </tr>\n",
              "    <tr>\n",
              "      <th>232720</th>\n",
              "      <td>Soul</td>\n",
              "      <td>Slave</td>\n",
              "      <td>Son Of Slide</td>\n",
              "      <td>2XGLdVl7lGeq8ksM6Al7jT</td>\n",
              "      <td>39</td>\n",
              "      <td>0.00384</td>\n",
              "      <td>0.687</td>\n",
              "      <td>326240</td>\n",
              "      <td>0.714</td>\n",
              "      <td>0.544000</td>\n",
              "      <td>D</td>\n",
              "      <td>0.0845</td>\n",
              "      <td>-10.626</td>\n",
              "      <td>Major</td>\n",
              "      <td>0.0316</td>\n",
              "      <td>115.542</td>\n",
              "      <td>4/4</td>\n",
              "      <td>0.962</td>\n",
              "    </tr>\n",
              "    <tr>\n",
              "      <th>232721</th>\n",
              "      <td>Soul</td>\n",
              "      <td>Jr Thomas &amp; The Volcanos</td>\n",
              "      <td>Burning Fire</td>\n",
              "      <td>1qWZdkBl4UVPj9lK6HuuFM</td>\n",
              "      <td>38</td>\n",
              "      <td>0.03290</td>\n",
              "      <td>0.785</td>\n",
              "      <td>282447</td>\n",
              "      <td>0.683</td>\n",
              "      <td>0.000880</td>\n",
              "      <td>E</td>\n",
              "      <td>0.2370</td>\n",
              "      <td>-6.944</td>\n",
              "      <td>Minor</td>\n",
              "      <td>0.0337</td>\n",
              "      <td>113.830</td>\n",
              "      <td>4/4</td>\n",
              "      <td>0.969</td>\n",
              "    </tr>\n",
              "    <tr>\n",
              "      <th>232722</th>\n",
              "      <td>Soul</td>\n",
              "      <td>Muddy Waters</td>\n",
              "      <td>(I'm Your) Hoochie Coochie Man</td>\n",
              "      <td>2ziWXUmQLrXTiYjCg2fZ2t</td>\n",
              "      <td>47</td>\n",
              "      <td>0.90100</td>\n",
              "      <td>0.517</td>\n",
              "      <td>166960</td>\n",
              "      <td>0.419</td>\n",
              "      <td>0.000000</td>\n",
              "      <td>D</td>\n",
              "      <td>0.0945</td>\n",
              "      <td>-8.282</td>\n",
              "      <td>Major</td>\n",
              "      <td>0.1480</td>\n",
              "      <td>84.135</td>\n",
              "      <td>4/4</td>\n",
              "      <td>0.813</td>\n",
              "    </tr>\n",
              "    <tr>\n",
              "      <th>232723</th>\n",
              "      <td>Soul</td>\n",
              "      <td>R.LUM.R</td>\n",
              "      <td>With My Words</td>\n",
              "      <td>6EFsue2YbIG4Qkq8Zr9Rir</td>\n",
              "      <td>44</td>\n",
              "      <td>0.26200</td>\n",
              "      <td>0.745</td>\n",
              "      <td>222442</td>\n",
              "      <td>0.704</td>\n",
              "      <td>0.000000</td>\n",
              "      <td>A</td>\n",
              "      <td>0.3330</td>\n",
              "      <td>-7.137</td>\n",
              "      <td>Major</td>\n",
              "      <td>0.1460</td>\n",
              "      <td>100.031</td>\n",
              "      <td>4/4</td>\n",
              "      <td>0.489</td>\n",
              "    </tr>\n",
              "    <tr>\n",
              "      <th>232724</th>\n",
              "      <td>Soul</td>\n",
              "      <td>Mint Condition</td>\n",
              "      <td>You Don't Have To Hurt No More</td>\n",
              "      <td>34XO9RwPMKjbvRry54QzWn</td>\n",
              "      <td>35</td>\n",
              "      <td>0.09730</td>\n",
              "      <td>0.758</td>\n",
              "      <td>323027</td>\n",
              "      <td>0.470</td>\n",
              "      <td>0.000049</td>\n",
              "      <td>G#</td>\n",
              "      <td>0.0836</td>\n",
              "      <td>-6.708</td>\n",
              "      <td>Minor</td>\n",
              "      <td>0.0287</td>\n",
              "      <td>113.897</td>\n",
              "      <td>4/4</td>\n",
              "      <td>0.479</td>\n",
              "    </tr>\n",
              "  </tbody>\n",
              "</table>\n",
              "<p>232725 rows × 18 columns</p>\n",
              "</div>\n",
              "      <button class=\"colab-df-convert\" onclick=\"convertToInteractive('df-22f512f8-90a9-4ce4-93ee-c48fd306b04b')\"\n",
              "              title=\"Convert this dataframe to an interactive table.\"\n",
              "              style=\"display:none;\">\n",
              "        \n",
              "  <svg xmlns=\"http://www.w3.org/2000/svg\" height=\"24px\"viewBox=\"0 0 24 24\"\n",
              "       width=\"24px\">\n",
              "    <path d=\"M0 0h24v24H0V0z\" fill=\"none\"/>\n",
              "    <path d=\"M18.56 5.44l.94 2.06.94-2.06 2.06-.94-2.06-.94-.94-2.06-.94 2.06-2.06.94zm-11 1L8.5 8.5l.94-2.06 2.06-.94-2.06-.94L8.5 2.5l-.94 2.06-2.06.94zm10 10l.94 2.06.94-2.06 2.06-.94-2.06-.94-.94-2.06-.94 2.06-2.06.94z\"/><path d=\"M17.41 7.96l-1.37-1.37c-.4-.4-.92-.59-1.43-.59-.52 0-1.04.2-1.43.59L10.3 9.45l-7.72 7.72c-.78.78-.78 2.05 0 2.83L4 21.41c.39.39.9.59 1.41.59.51 0 1.02-.2 1.41-.59l7.78-7.78 2.81-2.81c.8-.78.8-2.07 0-2.86zM5.41 20L4 18.59l7.72-7.72 1.47 1.35L5.41 20z\"/>\n",
              "  </svg>\n",
              "      </button>\n",
              "      \n",
              "  <style>\n",
              "    .colab-df-container {\n",
              "      display:flex;\n",
              "      flex-wrap:wrap;\n",
              "      gap: 12px;\n",
              "    }\n",
              "\n",
              "    .colab-df-convert {\n",
              "      background-color: #E8F0FE;\n",
              "      border: none;\n",
              "      border-radius: 50%;\n",
              "      cursor: pointer;\n",
              "      display: none;\n",
              "      fill: #1967D2;\n",
              "      height: 32px;\n",
              "      padding: 0 0 0 0;\n",
              "      width: 32px;\n",
              "    }\n",
              "\n",
              "    .colab-df-convert:hover {\n",
              "      background-color: #E2EBFA;\n",
              "      box-shadow: 0px 1px 2px rgba(60, 64, 67, 0.3), 0px 1px 3px 1px rgba(60, 64, 67, 0.15);\n",
              "      fill: #174EA6;\n",
              "    }\n",
              "\n",
              "    [theme=dark] .colab-df-convert {\n",
              "      background-color: #3B4455;\n",
              "      fill: #D2E3FC;\n",
              "    }\n",
              "\n",
              "    [theme=dark] .colab-df-convert:hover {\n",
              "      background-color: #434B5C;\n",
              "      box-shadow: 0px 1px 3px 1px rgba(0, 0, 0, 0.15);\n",
              "      filter: drop-shadow(0px 1px 2px rgba(0, 0, 0, 0.3));\n",
              "      fill: #FFFFFF;\n",
              "    }\n",
              "  </style>\n",
              "\n",
              "      <script>\n",
              "        const buttonEl =\n",
              "          document.querySelector('#df-22f512f8-90a9-4ce4-93ee-c48fd306b04b button.colab-df-convert');\n",
              "        buttonEl.style.display =\n",
              "          google.colab.kernel.accessAllowed ? 'block' : 'none';\n",
              "\n",
              "        async function convertToInteractive(key) {\n",
              "          const element = document.querySelector('#df-22f512f8-90a9-4ce4-93ee-c48fd306b04b');\n",
              "          const dataTable =\n",
              "            await google.colab.kernel.invokeFunction('convertToInteractive',\n",
              "                                                     [key], {});\n",
              "          if (!dataTable) return;\n",
              "\n",
              "          const docLinkHtml = 'Like what you see? Visit the ' +\n",
              "            '<a target=\"_blank\" href=https://colab.research.google.com/notebooks/data_table.ipynb>data table notebook</a>'\n",
              "            + ' to learn more about interactive tables.';\n",
              "          element.innerHTML = '';\n",
              "          dataTable['output_type'] = 'display_data';\n",
              "          await google.colab.output.renderOutput(dataTable, element);\n",
              "          const docLink = document.createElement('div');\n",
              "          docLink.innerHTML = docLinkHtml;\n",
              "          element.appendChild(docLink);\n",
              "        }\n",
              "      </script>\n",
              "    </div>\n",
              "  </div>\n",
              "  "
            ],
            "text/plain": [
              "        genre               artist_name                        track_name  \\\n",
              "0       Movie            Henri Salvador       C'est beau de faire un Show   \n",
              "1       Movie         Martin & les fées  Perdu d'avance (par Gad Elmaleh)   \n",
              "2       Movie           Joseph Williams    Don't Let Me Be Lonely Tonight   \n",
              "3       Movie            Henri Salvador    Dis-moi Monsieur Gordon Cooper   \n",
              "4       Movie              Fabien Nataf                         Ouverture   \n",
              "...       ...                       ...                               ...   \n",
              "232720   Soul                     Slave                      Son Of Slide   \n",
              "232721   Soul  Jr Thomas & The Volcanos                      Burning Fire   \n",
              "232722   Soul              Muddy Waters    (I'm Your) Hoochie Coochie Man   \n",
              "232723   Soul                   R.LUM.R                     With My Words   \n",
              "232724   Soul            Mint Condition    You Don't Have To Hurt No More   \n",
              "\n",
              "                      track_id  popularity  acousticness  danceability  \\\n",
              "0       0BRjO6ga9RKCKjfDqeFgWV           0       0.61100         0.389   \n",
              "1       0BjC1NfoEOOusryehmNudP           1       0.24600         0.590   \n",
              "2       0CoSDzoNIKCRs124s9uTVy           3       0.95200         0.663   \n",
              "3       0Gc6TVm52BwZD07Ki6tIvf           0       0.70300         0.240   \n",
              "4       0IuslXpMROHdEPvSl1fTQK           4       0.95000         0.331   \n",
              "...                        ...         ...           ...           ...   \n",
              "232720  2XGLdVl7lGeq8ksM6Al7jT          39       0.00384         0.687   \n",
              "232721  1qWZdkBl4UVPj9lK6HuuFM          38       0.03290         0.785   \n",
              "232722  2ziWXUmQLrXTiYjCg2fZ2t          47       0.90100         0.517   \n",
              "232723  6EFsue2YbIG4Qkq8Zr9Rir          44       0.26200         0.745   \n",
              "232724  34XO9RwPMKjbvRry54QzWn          35       0.09730         0.758   \n",
              "\n",
              "        duration_ms  energy  instrumentalness key  liveness  loudness   mode  \\\n",
              "0             99373   0.910          0.000000  C#    0.3460    -1.828  Major   \n",
              "1            137373   0.737          0.000000  F#    0.1510    -5.559  Minor   \n",
              "2            170267   0.131          0.000000   C    0.1030   -13.879  Minor   \n",
              "3            152427   0.326          0.000000  C#    0.0985   -12.178  Major   \n",
              "4             82625   0.225          0.123000   F    0.2020   -21.150  Major   \n",
              "...             ...     ...               ...  ..       ...       ...    ...   \n",
              "232720       326240   0.714          0.544000   D    0.0845   -10.626  Major   \n",
              "232721       282447   0.683          0.000880   E    0.2370    -6.944  Minor   \n",
              "232722       166960   0.419          0.000000   D    0.0945    -8.282  Major   \n",
              "232723       222442   0.704          0.000000   A    0.3330    -7.137  Major   \n",
              "232724       323027   0.470          0.000049  G#    0.0836    -6.708  Minor   \n",
              "\n",
              "        speechiness    tempo time_signature  valence  \n",
              "0            0.0525  166.969            4/4    0.814  \n",
              "1            0.0868  174.003            4/4    0.816  \n",
              "2            0.0362   99.488            5/4    0.368  \n",
              "3            0.0395  171.758            4/4    0.227  \n",
              "4            0.0456  140.576            4/4    0.390  \n",
              "...             ...      ...            ...      ...  \n",
              "232720       0.0316  115.542            4/4    0.962  \n",
              "232721       0.0337  113.830            4/4    0.969  \n",
              "232722       0.1480   84.135            4/4    0.813  \n",
              "232723       0.1460  100.031            4/4    0.489  \n",
              "232724       0.0287  113.897            4/4    0.479  \n",
              "\n",
              "[232725 rows x 18 columns]"
            ]
          },
          "execution_count": 4,
          "metadata": {},
          "output_type": "execute_result"
        }
      ],
      "source": [
        "df = pd.read_csv('https://github.com/nkozemaslova/Data_2022/releases/download/data3/SpotifyFeatures.csv')\n",
        "df"
      ],
      "id": "j_-2j6QlnhxS"
    },
    {
      "cell_type": "markdown",
      "metadata": {
        "id": "2YNXLET0nuAa"
      },
      "source": [
        "В данных убираются дубликаты: одни и те же композиции, которые записаны под разными жанрами"
      ],
      "id": "2YNXLET0nuAa"
    },
    {
      "cell_type": "code",
      "execution_count": null,
      "metadata": {
        "id": "AWrwyOZinl-F"
      },
      "outputs": [],
      "source": [
        "df = df.drop_duplicates(subset = ['artist_name', 'track_id', 'popularity',\n",
        "       'acousticness', 'danceability', 'duration_ms', 'energy',\n",
        "       'instrumentalness', 'key', 'liveness', 'loudness', 'mode',\n",
        "       'speechiness', 'tempo', 'time_signature', 'valence', 'track_name'])"
      ],
      "id": "AWrwyOZinl-F"
    },
    {
      "cell_type": "code",
      "execution_count": null,
      "metadata": {
        "colab": {
          "base_uri": "https://localhost:8080/"
        },
        "id": "zrttayY1nyLG",
        "outputId": "f9fbcd6b-a324-497b-cb39-cd29dcf7b654"
      },
      "outputs": [
        {
          "data": {
            "text/plain": [
              "(191056, 18)"
            ]
          },
          "execution_count": 6,
          "metadata": {},
          "output_type": "execute_result"
        }
      ],
      "source": [
        "# размер очищенных данных\n",
        "df.shape"
      ],
      "id": "zrttayY1nyLG"
    },
    {
      "cell_type": "code",
      "execution_count": null,
      "metadata": {
        "id": "AoFnmeRZn0aZ"
      },
      "outputs": [],
      "source": [
        "#сброс индексов\n",
        "df.reset_index(drop= True , inplace= True )"
      ],
      "id": "AoFnmeRZn0aZ"
    },
    {
      "cell_type": "markdown",
      "metadata": {
        "id": "twbZBQSiu9yq"
      },
      "source": [
        "Решение задачи многоклассовой классификации: столбец-таргет popularity закодируем от 1 до 5 по графику распределения"
      ],
      "id": "twbZBQSiu9yq"
    },
    {
      "cell_type": "code",
      "execution_count": null,
      "metadata": {
        "colab": {
          "base_uri": "https://localhost:8080/",
          "height": 425
        },
        "id": "CFr_ek3Ru82m",
        "outputId": "a529d95d-1959-471f-970a-7cd814766df3"
      },
      "outputs": [
        {
          "data": {
            "text/plain": [
              "Text(0.5, 1.0, 'Распределение популярности')"
            ]
          },
          "execution_count": 55,
          "metadata": {},
          "output_type": "execute_result"
        },
        {
          "data": {
            "image/png": "[encoded data removed]",
            "text/plain": [
              "<Figure size 720x432 with 1 Axes>"
            ]
          },
          "metadata": {},
          "output_type": "display_data"
        }
      ],
      "source": [
        "fig = plt.figure(figsize = (10, 6))\n",
        "sns.distplot(df.popularity).set_title('Распределение популярности')"
      ],
      "id": "CFr_ek3Ru82m"
    },
    {
      "cell_type": "code",
      "execution_count": null,
      "metadata": {
        "id": "nzrWxTxS1eb9"
      },
      "outputs": [],
      "source": [
        "df.loc[df['popularity'] < 10, 'popularity'] = 1\n",
        "df.loc[(df['popularity'] >= 10) & (df['popularity'] < 35), 'popularity'] = 2\n",
        "df.loc[(df['popularity'] >= 35) & (df['popularity'] < 55), 'popularity'] = 3\n",
        "df.loc[(df['popularity'] >= 55) & (df['popularity'] < 75), 'popularity'] = 4\n",
        "df.loc[(df['popularity'] >= 75) & (df['popularity'] <= 100), 'popularity'] = 5"
      ],
      "id": "nzrWxTxS1eb9"
    },
    {
      "cell_type": "code",
      "execution_count": null,
      "metadata": {
        "colab": {
          "base_uri": "https://localhost:8080/"
        },
        "id": "jIwInjHnvxdG",
        "outputId": "1d34fd37-b073-4253-d77c-ada9f6fe097c"
      },
      "outputs": [
        {
          "data": {
            "text/plain": [
              "3    79672\n",
              "2    64591\n",
              "4    30476\n",
              "1    14449\n",
              "5     1868\n",
              "Name: popularity, dtype: int64"
            ]
          },
          "execution_count": 9,
          "metadata": {},
          "output_type": "execute_result"
        }
      ],
      "source": [
        "df.popularity.value_counts()"
      ],
      "id": "jIwInjHnvxdG"
    },
    {
      "cell_type": "markdown",
      "metadata": {
        "id": "ykslbLqAuEoU"
      },
      "source": [
        "Выбор необходимых для построения модели колонок"
      ],
      "id": "ykslbLqAuEoU"
    },
    {
      "cell_type": "code",
      "execution_count": null,
      "metadata": {
        "id": "WB1VZrSqy6j3"
      },
      "outputs": [],
      "source": [
        "features = ['genre','acousticness', 'danceability', 'duration_ms',\n",
        "       'energy', 'instrumentalness', 'key', 'liveness', 'loudness', 'mode',\n",
        "       'speechiness', 'tempo', 'time_signature', 'valence']"
      ],
      "id": "WB1VZrSqy6j3"
    },
    {
      "cell_type": "markdown",
      "metadata": {
        "id": "Ou5rXO5dwY6A"
      },
      "source": [
        "Для категориальных столбцов 'genre', 'key', 'time_signature' применяется LeaveOneOutEncoder, бинарный столбец 'mode' кодируется с помощью OneHotEncoder."
      ],
      "id": "Ou5rXO5dwY6A"
    },
    {
      "cell_type": "code",
      "execution_count": null,
      "metadata": {
        "id": "gEliihuQwrAA"
      },
      "outputs": [],
      "source": [
        "cat_cols = ['genre', 'key', 'time_signature']"
      ],
      "id": "gEliihuQwrAA"
    },
    {
      "cell_type": "code",
      "execution_count": null,
      "metadata": {
        "id": "zpW4mjFFKYiS"
      },
      "outputs": [],
      "source": [
        "y_train = df['popularity']\n",
        "X_train = df[features]"
      ],
      "id": "zpW4mjFFKYiS"
    },
    {
      "cell_type": "code",
      "execution_count": null,
      "metadata": {
        "id": "zkxT2Ska6J_v"
      },
      "outputs": [],
      "source": [
        "X_train, X_test, y_train, y_test = train_test_split(X_train, y_train, test_size = 0.3, random_state = 420)"
      ],
      "id": "zkxT2Ska6J_v"
    },
    {
      "cell_type": "markdown",
      "metadata": {
        "id": "bIGn88HZxuDc"
      },
      "source": [
        "**Применение моделей**"
      ],
      "id": "bIGn88HZxuDc"
    },
    {
      "cell_type": "markdown",
      "metadata": {
        "id": "Nu1mUokO9-VN"
      },
      "source": [
        "Логистическая регрессия"
      ],
      "id": "Nu1mUokO9-VN"
    },
    {
      "cell_type": "code",
      "execution_count": null,
      "metadata": {
        "colab": {
          "base_uri": "https://localhost:8080/"
        },
        "id": "-Rrg8b_kTdD-",
        "outputId": "4a9fbe7c-5728-4fed-c49a-0656b5d5875b"
      },
      "outputs": [
        {
          "name": "stdout",
          "output_type": "stream",
          "text": [
            "Fitting 3 folds for each of 20 candidates, totalling 60 fits\n",
            "[CV] END ..........model__C=0.0001, model__class_weight=None; total time=   2.7s\n",
            "[CV] END ..........model__C=0.0001, model__class_weight=None; total time=   3.5s\n",
            "[CV] END ..........model__C=0.0001, model__class_weight=None; total time=   4.0s\n",
            "[CV] END ......model__C=0.0001, model__class_weight=balanced; total time=   2.4s\n",
            "[CV] END ......model__C=0.0001, model__class_weight=balanced; total time=   2.2s\n",
            "[CV] END ......model__C=0.0001, model__class_weight=balanced; total time=   2.2s\n",
            "[CV] END ..........model__C=1.0001, model__class_weight=None; total time=   7.5s\n",
            "[CV] END ..........model__C=1.0001, model__class_weight=None; total time=   7.6s\n",
            "[CV] END ..........model__C=1.0001, model__class_weight=None; total time=   7.9s\n",
            "[CV] END ......model__C=1.0001, model__class_weight=balanced; total time=   7.9s\n",
            "[CV] END ......model__C=1.0001, model__class_weight=balanced; total time=   7.5s\n",
            "[CV] END ......model__C=1.0001, model__class_weight=balanced; total time=   7.9s\n",
            "[CV] END ..........model__C=2.0001, model__class_weight=None; total time=   7.7s\n",
            "[CV] END ..........model__C=2.0001, model__class_weight=None; total time=   8.0s\n",
            "[CV] END ..........model__C=2.0001, model__class_weight=None; total time=   7.8s\n",
            "[CV] END ......model__C=2.0001, model__class_weight=balanced; total time=   7.7s\n",
            "[CV] END ......model__C=2.0001, model__class_weight=balanced; total time=   7.5s\n",
            "[CV] END ......model__C=2.0001, model__class_weight=balanced; total time=   8.0s\n",
            "[CV] END ..........model__C=3.0001, model__class_weight=None; total time=   8.1s\n",
            "[CV] END ..........model__C=3.0001, model__class_weight=None; total time=   7.7s\n",
            "[CV] END ..........model__C=3.0001, model__class_weight=None; total time=   7.8s\n",
            "[CV] END ......model__C=3.0001, model__class_weight=balanced; total time=   7.8s\n",
            "[CV] END ......model__C=3.0001, model__class_weight=balanced; total time=   9.7s\n",
            "[CV] END ......model__C=3.0001, model__class_weight=balanced; total time=   7.8s\n",
            "[CV] END ..........model__C=4.0001, model__class_weight=None; total time=   7.6s\n",
            "[CV] END ..........model__C=4.0001, model__class_weight=None; total time=   7.4s\n",
            "[CV] END ..........model__C=4.0001, model__class_weight=None; total time=   7.9s\n",
            "[CV] END ......model__C=4.0001, model__class_weight=balanced; total time=   7.9s\n",
            "[CV] END ......model__C=4.0001, model__class_weight=balanced; total time=   8.0s\n",
            "[CV] END ......model__C=4.0001, model__class_weight=balanced; total time=   7.9s\n",
            "[CV] END ..........model__C=5.0001, model__class_weight=None; total time=   7.8s\n",
            "[CV] END ..........model__C=5.0001, model__class_weight=None; total time=   7.4s\n",
            "[CV] END ..........model__C=5.0001, model__class_weight=None; total time=   7.6s\n",
            "[CV] END ......model__C=5.0001, model__class_weight=balanced; total time=   7.7s\n",
            "[CV] END ......model__C=5.0001, model__class_weight=balanced; total time=   7.5s\n",
            "[CV] END ......model__C=5.0001, model__class_weight=balanced; total time=   7.8s\n",
            "[CV] END ..........model__C=6.0001, model__class_weight=None; total time=   7.5s\n",
            "[CV] END ..........model__C=6.0001, model__class_weight=None; total time=   7.6s\n",
            "[CV] END ..........model__C=6.0001, model__class_weight=None; total time=   7.9s\n",
            "[CV] END ......model__C=6.0001, model__class_weight=balanced; total time=   7.7s\n",
            "[CV] END ......model__C=6.0001, model__class_weight=balanced; total time=   7.6s\n",
            "[CV] END ......model__C=6.0001, model__class_weight=balanced; total time=   7.8s\n",
            "[CV] END ..........model__C=7.0001, model__class_weight=None; total time=   7.6s\n",
            "[CV] END ..........model__C=7.0001, model__class_weight=None; total time=   7.5s\n",
            "[CV] END ..........model__C=7.0001, model__class_weight=None; total time=   7.9s\n",
            "[CV] END ......model__C=7.0001, model__class_weight=balanced; total time=   7.9s\n",
            "[CV] END ......model__C=7.0001, model__class_weight=balanced; total time=   8.8s\n",
            "[CV] END ......model__C=7.0001, model__class_weight=balanced; total time=   7.8s\n",
            "[CV] END ..........model__C=8.0001, model__class_weight=None; total time=   7.8s\n",
            "[CV] END ..........model__C=8.0001, model__class_weight=None; total time=   7.6s\n",
            "[CV] END ..........model__C=8.0001, model__class_weight=None; total time=   7.5s\n",
            "[CV] END ......model__C=8.0001, model__class_weight=balanced; total time=   7.6s\n",
            "[CV] END ......model__C=8.0001, model__class_weight=balanced; total time=   7.7s\n",
            "[CV] END ......model__C=8.0001, model__class_weight=balanced; total time=   7.7s\n",
            "[CV] END ..........model__C=9.0001, model__class_weight=None; total time=   7.6s\n",
            "[CV] END ..........model__C=9.0001, model__class_weight=None; total time=   7.4s\n",
            "[CV] END ..........model__C=9.0001, model__class_weight=None; total time=   7.7s\n",
            "[CV] END ......model__C=9.0001, model__class_weight=balanced; total time=   7.4s\n",
            "[CV] END ......model__C=9.0001, model__class_weight=balanced; total time=   7.5s\n",
            "[CV] END ......model__C=9.0001, model__class_weight=balanced; total time=   7.9s\n"
          ]
        },
        {
          "data": {
            "text/plain": [
              "(0.6410471255206223,\n",
              " Pipeline(steps=[('one_hot_encoder', OneHotEncoder(cols=['mode'])),\n",
              "                 ('leave_one_out_encoder',\n",
              "                  LeaveOneOutEncoder(cols=['genre', 'key', 'time_signature'])),\n",
              "                 ('scaler', MinMaxScaler()),\n",
              "                 ('model', LogisticRegression(C=5.0001))]))"
            ]
          },
          "execution_count": 62,
          "metadata": {},
          "output_type": "execute_result"
        }
      ],
      "source": [
        "pipe_model = Pipeline([\n",
        "    ('one_hot_encoder', OneHotEncoder(cols='mode')),\n",
        "    ('leave_one_out_encoder', LeaveOneOutEncoder(cols = cat_cols)),\n",
        "    ('scaler', MinMaxScaler()),\n",
        "    ('model', LogisticRegression())\n",
        "])\n",
        "\n",
        "params = {'model__C' : np.arange(0.0001, 10.0001, 1),\n",
        "          'model__class_weight' : [None, 'balanced']}\n",
        "\n",
        "gs = GridSearchCV(pipe_model,params, cv=3, scoring='f1_micro', verbose=2)\n",
        "\n",
        "gs.fit(X_train, y_train)\n",
        "\n",
        "gs.best_score_, gs.best_estimator_\n"
      ],
      "id": "-Rrg8b_kTdD-"
    },
    {
      "cell_type": "code",
      "execution_count": null,
      "metadata": {
        "colab": {
          "base_uri": "https://localhost:8080/"
        },
        "id": "Mba51QzoPTP_",
        "outputId": "401199b3-8b74-4c43-ea04-4fc4505f36ea"
      },
      "outputs": [
        {
          "data": {
            "text/plain": [
              "0.6401765619275258"
            ]
          },
          "execution_count": 63,
          "metadata": {},
          "output_type": "execute_result"
        }
      ],
      "source": [
        "model_LR = gs.best_estimator_\n",
        "\n",
        "model_LR.fit(X_train, y_train)\n",
        "\n",
        "pred_LR = model_LR.predict(X_test)\n",
        "\n",
        "f1_score(y_test,pred_LR,average='micro')"
      ],
      "id": "Mba51QzoPTP_"
    },
    {
      "cell_type": "markdown",
      "metadata": {
        "id": "YlO636Kz94iS"
      },
      "source": [
        "RandomForestClassifier"
      ],
      "id": "YlO636Kz94iS"
    },
    {
      "cell_type": "code",
      "execution_count": null,
      "metadata": {
        "colab": {
          "base_uri": "https://localhost:8080/"
        },
        "id": "B97jXqH2-pgy",
        "outputId": "6a3d5e6e-f31b-460e-9ed3-d3758c323cf7"
      },
      "outputs": [
        {
          "name": "stdout",
          "output_type": "stream",
          "text": [
            "Fitting 3 folds for each of 2 candidates, totalling 6 fits\n",
            "[CV] END ...........................model__max_features=sqrt; total time=  17.1s\n",
            "[CV] END ...........................model__max_features=sqrt; total time=  16.6s\n",
            "[CV] END ...........................model__max_features=sqrt; total time=  16.4s\n",
            "[CV] END ...........................model__max_features=log2; total time=  17.7s\n",
            "[CV] END ...........................model__max_features=log2; total time=  17.3s\n",
            "[CV] END ...........................model__max_features=log2; total time=  15.6s\n"
          ]
        },
        {
          "data": {
            "text/plain": [
              "(0.485370780372919,\n",
              " Pipeline(steps=[('one_hot_encoder', OneHotEncoder(cols=['mode'])),\n",
              "                 ('leave_one_out_encoder',\n",
              "                  LeaveOneOutEncoder(cols=['genre', 'key', 'time_signature'])),\n",
              "                 ('scaler', MinMaxScaler()),\n",
              "                 ('model', RandomForestClassifier(max_features='sqrt'))]))"
            ]
          },
          "execution_count": 64,
          "metadata": {},
          "output_type": "execute_result"
        }
      ],
      "source": [
        "pipe_model_RFC = Pipeline([\n",
        "    ('one_hot_encoder', OneHotEncoder(cols='mode')),\n",
        "    ('leave_one_out_encoder', LeaveOneOutEncoder(cols = cat_cols)),\n",
        "    ('scaler', MinMaxScaler()),\n",
        "    ('model', RandomForestClassifier())\n",
        "])\n",
        "\n",
        "params = {'model__max_features': ['sqrt', 'log2']}\n",
        "\n",
        "gs = GridSearchCV(pipe_model_RFC, params, cv=3, scoring='f1_micro', verbose=2)\n",
        "\n",
        "gs.fit(X_train, y_train)\n",
        "\n",
        "gs.best_score_, gs.best_estimator_"
      ],
      "id": "B97jXqH2-pgy"
    },
    {
      "cell_type": "code",
      "execution_count": null,
      "metadata": {
        "colab": {
          "base_uri": "https://localhost:8080/"
        },
        "id": "C7LijXS0Hics",
        "outputId": "5164b068-6b1b-43fd-9db9-ff5ea74d76ef"
      },
      "outputs": [
        {
          "data": {
            "text/plain": [
              "0.4900814766997575"
            ]
          },
          "execution_count": 65,
          "metadata": {},
          "output_type": "execute_result"
        }
      ],
      "source": [
        "model_RFC = gs.best_estimator_\n",
        "\n",
        "model_RFC.fit(X_train, y_train)\n",
        "\n",
        "pred_RFC = model_RFC.predict(X_test)\n",
        "\n",
        "f1_score(y_test,pred_RFC,average='micro')"
      ],
      "id": "C7LijXS0Hics"
    },
    {
      "cell_type": "markdown",
      "metadata": {
        "id": "6NgQdbhGHz35"
      },
      "source": [
        "KNeighborsClassifier"
      ],
      "id": "6NgQdbhGHz35"
    },
    {
      "cell_type": "code",
      "execution_count": null,
      "metadata": {
        "colab": {
          "base_uri": "https://localhost:8080/"
        },
        "id": "PXlDqkHqH5YE",
        "outputId": "9d2a5a36-d1aa-4a79-b33b-f848ee9b03e7"
      },
      "outputs": [
        {
          "name": "stdout",
          "output_type": "stream",
          "text": [
            "Fitting 3 folds for each of 3 candidates, totalling 9 fits\n",
            "[CV] END .........................model__algorithm=ball_tree; total time=  43.0s\n",
            "[CV] END .........................model__algorithm=ball_tree; total time=  39.4s\n",
            "[CV] END .........................model__algorithm=ball_tree; total time=  43.0s\n",
            "[CV] END ...........................model__algorithm=kd_tree; total time=  17.4s\n",
            "[CV] END ...........................model__algorithm=kd_tree; total time=  15.9s\n",
            "[CV] END ...........................model__algorithm=kd_tree; total time=  16.0s\n",
            "[CV] END ..............................model__algorithm=auto; total time=  16.7s\n",
            "[CV] END ..............................model__algorithm=auto; total time=  15.6s\n",
            "[CV] END ..............................model__algorithm=auto; total time=  16.0s\n"
          ]
        },
        {
          "data": {
            "text/plain": [
              "(0.597237895246569,\n",
              " Pipeline(steps=[('one_hot_encoder', OneHotEncoder(cols=['mode'])),\n",
              "                 ('leave_one_out_encoder',\n",
              "                  LeaveOneOutEncoder(cols=['genre', 'key', 'time_signature'])),\n",
              "                 ('scaler', MinMaxScaler()),\n",
              "                 ('model', KNeighborsClassifier(algorithm='ball_tree'))]))"
            ]
          },
          "execution_count": 66,
          "metadata": {},
          "output_type": "execute_result"
        }
      ],
      "source": [
        "pipe_model_KNN = Pipeline([\n",
        "    ('one_hot_encoder', OneHotEncoder(cols='mode')),\n",
        "    ('leave_one_out_encoder', LeaveOneOutEncoder(cols = cat_cols)),\n",
        "    ('scaler', MinMaxScaler()),\n",
        "    ('model', KNeighborsClassifier())\n",
        "])\n",
        "\n",
        "\n",
        "params = {'model__algorithm': ['ball_tree', 'kd_tree','auto']}\n",
        "\n",
        "gs = GridSearchCV(pipe_model_KNN, params, cv=3, scoring='f1_micro', verbose=2)\n",
        "\n",
        "gs.fit(X_train, y_train)\n",
        "\n",
        "gs.best_score_, gs.best_estimator_"
      ],
      "id": "PXlDqkHqH5YE"
    },
    {
      "cell_type": "code",
      "execution_count": null,
      "metadata": {
        "colab": {
          "base_uri": "https://localhost:8080/"
        },
        "id": "13r1KVGJIZkP",
        "outputId": "dbed3cde-b843-4d83-b1e2-5c7d3b7f6144"
      },
      "outputs": [
        {
          "data": {
            "text/plain": [
              "0.6036603450983129"
            ]
          },
          "execution_count": 67,
          "metadata": {},
          "output_type": "execute_result"
        }
      ],
      "source": [
        "model_KNN = gs.best_estimator_\n",
        "\n",
        "model_KNN.fit(X_train, y_train)\n",
        "\n",
        "pred_KNN = model_KNN.predict(X_test)\n",
        "\n",
        "f1_score(y_test,pred_KNN, average='micro')"
      ],
      "id": "13r1KVGJIZkP"
    },
    {
      "cell_type": "markdown",
      "metadata": {
        "id": "pMnsG6NjIh8z"
      },
      "source": [
        "DecisionTreeClassifier"
      ],
      "id": "pMnsG6NjIh8z"
    },
    {
      "cell_type": "code",
      "execution_count": null,
      "metadata": {
        "colab": {
          "base_uri": "https://localhost:8080/"
        },
        "id": "MC62ve6mIlnm",
        "outputId": "2e30e99a-2b5c-4265-e604-30eda26aee6c"
      },
      "outputs": [
        {
          "name": "stdout",
          "output_type": "stream",
          "text": [
            "Fitting 3 folds for each of 2 candidates, totalling 6 fits\n",
            "[CV] END ...............................model__splitter=best; total time=   0.8s\n",
            "[CV] END ...............................model__splitter=best; total time=   0.8s\n",
            "[CV] END ...............................model__splitter=best; total time=   0.8s\n",
            "[CV] END .............................model__splitter=random; total time=   0.7s\n",
            "[CV] END .............................model__splitter=random; total time=   0.7s\n",
            "[CV] END .............................model__splitter=random; total time=   0.6s\n"
          ]
        },
        {
          "data": {
            "text/plain": [
              "(0.5595001251476968,\n",
              " Pipeline(steps=[('one_hot_encoder', OneHotEncoder(cols=['mode'])),\n",
              "                 ('leave_one_out_encoder',\n",
              "                  LeaveOneOutEncoder(cols=['genre', 'key', 'time_signature'])),\n",
              "                 ('scaler', MinMaxScaler()),\n",
              "                 ('model', DecisionTreeClassifier(splitter='random'))]))"
            ]
          },
          "execution_count": 68,
          "metadata": {},
          "output_type": "execute_result"
        }
      ],
      "source": [
        "pipe_model_DTC = Pipeline([\n",
        "    ('one_hot_encoder', OneHotEncoder(cols='mode')),\n",
        "    ('leave_one_out_encoder', LeaveOneOutEncoder(cols = cat_cols)),\n",
        "    ('scaler', MinMaxScaler()),\n",
        "    ('model', DecisionTreeClassifier())\n",
        "])\n",
        "\n",
        "\n",
        "params = {'model__splitter': ['best', 'random']}\n",
        "\n",
        "gs = GridSearchCV(pipe_model_DTC, params, cv=3, scoring='f1_micro', verbose=2)\n",
        "\n",
        "gs.fit(X_train, y_train)\n",
        "\n",
        "gs.best_score_, gs.best_estimator_"
      ],
      "id": "MC62ve6mIlnm"
    },
    {
      "cell_type": "code",
      "execution_count": null,
      "metadata": {
        "colab": {
          "base_uri": "https://localhost:8080/"
        },
        "id": "RfEXaSqoInro",
        "outputId": "2c6e889b-60f8-4d0e-89ac-e03a6bdcc7b1"
      },
      "outputs": [
        {
          "data": {
            "text/plain": [
              "0.604218643683375"
            ]
          },
          "execution_count": 69,
          "metadata": {},
          "output_type": "execute_result"
        }
      ],
      "source": [
        "model_DTC = gs.best_estimator_\n",
        "\n",
        "model_DTC.fit(X_train, y_train)\n",
        "\n",
        "pred_DTC = model_DTC.predict(X_test)\n",
        "\n",
        "f1_score(y_test,pred_DTC, average='micro')"
      ],
      "id": "RfEXaSqoInro"
    },
    {
      "cell_type": "markdown",
      "metadata": {
        "id": "YIrXCXShJZEZ"
      },
      "source": [
        " SVM"
      ],
      "id": "YIrXCXShJZEZ"
    },
    {
      "cell_type": "code",
      "execution_count": null,
      "metadata": {
        "colab": {
          "background_save": true
        },
        "id": "wSGyKAL2vD8Y",
        "outputId": "8280d7a1-a104-4711-d18e-1b2cdbee4bee"
      },
      "outputs": [
        {
          "data": {
            "text/plain": [
              "0.6510808311670185"
            ]
          },
          "execution_count": 14,
          "metadata": {},
          "output_type": "execute_result"
        }
      ],
      "source": [
        "pipe_model_SVC = Pipeline([\n",
        "    ('one_hot_encoder', OneHotEncoder(cols='mode')),\n",
        "    ('leave_one_out_encoder', LeaveOneOutEncoder(cols = cat_cols)),\n",
        "    ('scaler', MinMaxScaler()),\n",
        "    ('model', SVC())\n",
        "])\n",
        "\n",
        "\n",
        "pipe_model_SVC.fit(X_train, y_train)\n",
        "\n",
        "pred_SVC = pipe_model_SVC.predict(X_test)\n",
        "\n",
        "f1_score(y_test,pred_SVC,average='micro')"
      ],
      "id": "wSGyKAL2vD8Y"
    },
    {
      "cell_type": "markdown",
      "source": [
        "лучший результат получился у модели SVM с ошибкой 0,65"
      ],
      "metadata": {
        "id": "I01dZRXP3Um8"
      },
      "id": "I01dZRXP3Um8"
    },
    {
      "cell_type": "markdown",
      "metadata": {
        "id": "vWCaDWm0PeE9"
      },
      "source": [
        "### Content Based Cosine Similarity "
      ],
      "id": "vWCaDWm0PeE9"
    },
    {
      "cell_type": "code",
      "execution_count": null,
      "metadata": {
        "id": "8znvT8jtPot3"
      },
      "outputs": [],
      "source": [
        "import pandas as pd\n",
        "from sklearn.metrics.pairwise import sigmoid_kernel\n",
        "from sklearn.metrics.pairwise import cosine_similarity\n",
        "from sklearn import preprocessing"
      ],
      "id": "8znvT8jtPot3"
    },
    {
      "cell_type": "code",
      "execution_count": null,
      "metadata": {
        "id": "Vk1hEeFx2t1l"
      },
      "outputs": [],
      "source": [
        "df = df.sample(10000)\n",
        "df.reset_index(drop= True , inplace= True )"
      ],
      "id": "Vk1hEeFx2t1l"
    },
    {
      "cell_type": "code",
      "execution_count": null,
      "metadata": {
        "id": "91SRvlKb2U5j"
      },
      "outputs": [],
      "source": [
        "#кодируем категориальные столбцы key, mode, time_signature\n",
        "list_of_keys = df['key'].unique()\n",
        "for i in range(len(list_of_keys)):\n",
        "  df.loc[df.key == list_of_keys[i], 'key'] = i\n",
        "\n",
        "df.loc[df['mode']== 'Major', 'mode'] = 1\n",
        "df.loc[df['mode']== 'Minor', 'mode'] = 0\n",
        "\n",
        "list_of_time_signatures = df['time_signature'].unique()\n",
        "for i in range(len(list_of_time_signatures)):\n",
        "  df.loc[df['time_signature'] == list_of_time_signatures[i], 'time_signature'] = i"
      ],
      "id": "91SRvlKb2U5j"
    },
    {
      "cell_type": "code",
      "execution_count": null,
      "metadata": {
        "colab": {
          "base_uri": "https://localhost:8080/"
        },
        "id": "rduqp5Mi18gi",
        "outputId": "9148a1b0-5054-4f73-e0dc-f645aa5c0243"
      },
      "outputs": [
        {
          "name": "stdout",
          "output_type": "stream",
          "text": [
            "[[2.69052369e-02 6.10771915e-01 2.60260439e-02 8.80849513e-01\n",
            "  4.97482377e-05 0.00000000e+00 2.27023737e-01 9.07487617e-01\n",
            "  1.00000000e+00 3.92652368e-01 6.34757628e-01 0.00000000e+00\n",
            "  4.72081218e-01]\n",
            " [1.84736950e-01 5.24640209e-01 4.05370181e-02 6.28530834e-01\n",
            "  0.00000000e+00 9.09090909e-02 7.16169608e-02 8.55097092e-01\n",
            "  1.00000000e+00 8.91909110e-03 5.92061815e-01 0.00000000e+00\n",
            "  4.99492386e-01]]\n"
          ]
        }
      ],
      "source": [
        "feature_cols=['acousticness', 'danceability', 'duration_ms', 'energy',\n",
        "              'instrumentalness', 'key', 'liveness', 'loudness', 'mode',\n",
        "              'speechiness', 'tempo', 'time_signature', 'valence',]\n",
        "\n",
        "from sklearn.preprocessing import MinMaxScaler\n",
        "scaler = MinMaxScaler()\n",
        "normalized_df =scaler.fit_transform(df[feature_cols])\n",
        "\n",
        "print(normalized_df[:2])"
      ],
      "id": "rduqp5Mi18gi"
    },
    {
      "cell_type": "code",
      "execution_count": null,
      "metadata": {
        "id": "63lYqVOn2Wf5"
      },
      "outputs": [],
      "source": [
        "indices = pd.Series(df.index, index=df['track_name']).drop_duplicates()\n",
        "\n",
        "cosine = cosine_similarity(normalized_df)"
      ],
      "id": "63lYqVOn2Wf5"
    },
    {
      "cell_type": "code",
      "execution_count": null,
      "metadata": {
        "id": "ESlqcZLZBDzH"
      },
      "outputs": [],
      "source": [
        "def generate_recommendation(track_name, model_type=cosine):\n",
        "    \"\"\"\n",
        "    Purpose: Function for song recommendations \n",
        "    Inputs: song title and type of similarity model\n",
        "    Output: Pandas series of recommended songs\n",
        "    \"\"\"\n",
        "    \n",
        "    idx=indices[track_name]\n",
        "\n",
        "    sim_scores=list(enumerate(model_type[idx]))\n",
        "\n",
        "    sim_scores = sorted(sim_scores, key = lambda x: x[1], reverse = True)\n",
        "\n",
        "    sim_scores = sim_scores[1:11]\n",
        "\n",
        "    songs_indices = [i[0] for i in sim_scores]\n",
        "  \n",
        "    return df['track_name'].iloc[songs_indices]"
      ],
      "id": "ESlqcZLZBDzH"
    },
    {
      "cell_type": "code",
      "execution_count": null,
      "metadata": {
        "colab": {
          "base_uri": "https://localhost:8080/"
        },
        "id": "PxnDd59n2byY",
        "outputId": "d201f7aa-1063-4e28-ba08-2739af4b3122"
      },
      "outputs": [
        {
          "data": {
            "text/plain": [
              "1861                            Caribbean Girl (Raw)\n",
              "8207                                    La Bicicleta\n",
              "3654                                  Vibra Positiva\n",
              "318                                Games People Play\n",
              "2871                                      Kryptonite\n",
              "5488                                       La Celosa\n",
              "9188    Sigue Viajando (Remix) [feat. Alexis y Zion]\n",
              "4028                                          Family\n",
              "9471                                  Mi Mejor Amiga\n",
              "4313                                  Asado y Fernet\n",
              "Name: track_name, dtype: object"
            ]
          },
          "execution_count": 19,
          "metadata": {},
          "output_type": "execute_result"
        }
      ],
      "source": [
        "generate_recommendation('Every Scar Has a Story',cosine)"
      ],
      "id": "PxnDd59n2byY"
    }
  ],
  "metadata": {
    "colab": {
      "provenance": []
    },
    "kernelspec": {
      "display_name": "Python 3 (ipykernel)",
      "language": "python",
      "name": "python3"
    },
    "language_info": {
      "codemirror_mode": {
        "name": "ipython",
        "version": 3
      },
      "file_extension": ".py",
      "mimetype": "text/x-python",
      "name": "python",
      "nbconvert_exporter": "python",
      "pygments_lexer": "ipython3",
      "version": "3.9.12"
    }
  },
  "nbformat": 4,
  "nbformat_minor": 5
}